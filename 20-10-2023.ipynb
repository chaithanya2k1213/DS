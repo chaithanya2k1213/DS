{
 "cells": [
  {
   "cell_type": "code",
   "execution_count": 2,
   "id": "0806e03e",
   "metadata": {},
   "outputs": [],
   "source": [
    "import numpy as np"
   ]
  },
  {
   "cell_type": "code",
   "execution_count": 3,
   "id": "4684092e",
   "metadata": {},
   "outputs": [
    {
     "data": {
      "text/plain": [
       "array([[1, 1],\n",
       "       [3, 3]])"
      ]
     },
     "execution_count": 3,
     "metadata": {},
     "output_type": "execute_result"
    }
   ],
   "source": [
    "a=np.array([[1,1],[3,3]])\n",
    "a"
   ]
  },
  {
   "cell_type": "code",
   "execution_count": 4,
   "id": "5ee5baee",
   "metadata": {},
   "outputs": [
    {
     "data": {
      "text/plain": [
       "array([2, 6])"
      ]
     },
     "execution_count": 4,
     "metadata": {},
     "output_type": "execute_result"
    }
   ],
   "source": [
    "a.sum(axis=1)"
   ]
  },
  {
   "cell_type": "code",
   "execution_count": 6,
   "id": "c1239ce5",
   "metadata": {},
   "outputs": [
    {
     "data": {
      "text/plain": [
       "array([4, 4])"
      ]
     },
     "execution_count": 6,
     "metadata": {},
     "output_type": "execute_result"
    }
   ],
   "source": [
    "a.sum(axis=0)"
   ]
  },
  {
   "cell_type": "code",
   "execution_count": 7,
   "id": "95a0badb",
   "metadata": {},
   "outputs": [
    {
     "data": {
      "text/plain": [
       "5"
      ]
     },
     "execution_count": 7,
     "metadata": {},
     "output_type": "execute_result"
    }
   ],
   "source": [
    "b=np.array([1,2,3,2,1,4,5])\n",
    "b.max()"
   ]
  },
  {
   "cell_type": "code",
   "execution_count": 8,
   "id": "c86f0928",
   "metadata": {},
   "outputs": [
    {
     "data": {
      "text/plain": [
       "6"
      ]
     },
     "execution_count": 8,
     "metadata": {},
     "output_type": "execute_result"
    }
   ],
   "source": [
    "b.argmax()"
   ]
  },
  {
   "cell_type": "code",
   "execution_count": 10,
   "id": "92520f85",
   "metadata": {},
   "outputs": [
    {
     "data": {
      "text/plain": [
       "0"
      ]
     },
     "execution_count": 10,
     "metadata": {},
     "output_type": "execute_result"
    }
   ],
   "source": [
    "b.argmin()"
   ]
  },
  {
   "cell_type": "code",
   "execution_count": 11,
   "id": "00d72700",
   "metadata": {},
   "outputs": [],
   "source": [
    "import csv"
   ]
  },
  {
   "cell_type": "code",
   "execution_count": 16,
   "id": "d251f30c",
   "metadata": {},
   "outputs": [
    {
     "ename": "ValueError",
     "evalue": "could not convert string to float: 'number_courses,time_study,Marks'",
     "output_type": "error",
     "traceback": [
      "\u001b[1;31m---------------------------------------------------------------------------\u001b[0m",
      "\u001b[1;31mValueError\u001b[0m                                Traceback (most recent call last)",
      "Input \u001b[1;32mIn [16]\u001b[0m, in \u001b[0;36m<cell line: 1>\u001b[1;34m()\u001b[0m\n\u001b[1;32m----> 1\u001b[0m data\u001b[38;5;241m=\u001b[39m\u001b[43mnp\u001b[49m\u001b[38;5;241;43m.\u001b[39;49m\u001b[43mloadtxt\u001b[49m\u001b[43m(\u001b[49m\u001b[38;5;124;43m\"\u001b[39;49m\u001b[38;5;124;43mStudent_Marks.csv\u001b[39;49m\u001b[38;5;124;43m\"\u001b[39;49m\u001b[43m)\u001b[49m\n",
      "File \u001b[1;32m~\\anaconda3\\lib\\site-packages\\numpy\\lib\\npyio.py:1148\u001b[0m, in \u001b[0;36mloadtxt\u001b[1;34m(fname, dtype, comments, delimiter, converters, skiprows, usecols, unpack, ndmin, encoding, max_rows, like)\u001b[0m\n\u001b[0;32m   1143\u001b[0m \u001b[38;5;66;03m# read data in chunks and fill it into an array via resize\u001b[39;00m\n\u001b[0;32m   1144\u001b[0m \u001b[38;5;66;03m# over-allocating and shrinking the array later may be faster but is\u001b[39;00m\n\u001b[0;32m   1145\u001b[0m \u001b[38;5;66;03m# probably not relevant compared to the cost of actually reading and\u001b[39;00m\n\u001b[0;32m   1146\u001b[0m \u001b[38;5;66;03m# converting the data\u001b[39;00m\n\u001b[0;32m   1147\u001b[0m X \u001b[38;5;241m=\u001b[39m \u001b[38;5;28;01mNone\u001b[39;00m\n\u001b[1;32m-> 1148\u001b[0m \u001b[38;5;28;01mfor\u001b[39;00m x \u001b[38;5;129;01min\u001b[39;00m read_data(_loadtxt_chunksize):\n\u001b[0;32m   1149\u001b[0m     \u001b[38;5;28;01mif\u001b[39;00m X \u001b[38;5;129;01mis\u001b[39;00m \u001b[38;5;28;01mNone\u001b[39;00m:\n\u001b[0;32m   1150\u001b[0m         X \u001b[38;5;241m=\u001b[39m np\u001b[38;5;241m.\u001b[39marray(x, dtype)\n",
      "File \u001b[1;32m~\\anaconda3\\lib\\site-packages\\numpy\\lib\\npyio.py:999\u001b[0m, in \u001b[0;36mloadtxt.<locals>.read_data\u001b[1;34m(chunk_size)\u001b[0m\n\u001b[0;32m    995\u001b[0m     \u001b[38;5;28;01mraise\u001b[39;00m \u001b[38;5;167;01mValueError\u001b[39;00m(\u001b[38;5;124m\"\u001b[39m\u001b[38;5;124mWrong number of columns at line \u001b[39m\u001b[38;5;132;01m%d\u001b[39;00m\u001b[38;5;124m\"\u001b[39m\n\u001b[0;32m    996\u001b[0m                      \u001b[38;5;241m%\u001b[39m line_num)\n\u001b[0;32m    998\u001b[0m \u001b[38;5;66;03m# Convert each value according to its column and store\u001b[39;00m\n\u001b[1;32m--> 999\u001b[0m items \u001b[38;5;241m=\u001b[39m [conv(val) \u001b[38;5;28;01mfor\u001b[39;00m (conv, val) \u001b[38;5;129;01min\u001b[39;00m \u001b[38;5;28mzip\u001b[39m(converters, vals)]\n\u001b[0;32m   1001\u001b[0m \u001b[38;5;66;03m# Then pack it according to the dtype's nesting\u001b[39;00m\n\u001b[0;32m   1002\u001b[0m items \u001b[38;5;241m=\u001b[39m pack_items(items, packing)\n",
      "File \u001b[1;32m~\\anaconda3\\lib\\site-packages\\numpy\\lib\\npyio.py:999\u001b[0m, in \u001b[0;36m<listcomp>\u001b[1;34m(.0)\u001b[0m\n\u001b[0;32m    995\u001b[0m     \u001b[38;5;28;01mraise\u001b[39;00m \u001b[38;5;167;01mValueError\u001b[39;00m(\u001b[38;5;124m\"\u001b[39m\u001b[38;5;124mWrong number of columns at line \u001b[39m\u001b[38;5;132;01m%d\u001b[39;00m\u001b[38;5;124m\"\u001b[39m\n\u001b[0;32m    996\u001b[0m                      \u001b[38;5;241m%\u001b[39m line_num)\n\u001b[0;32m    998\u001b[0m \u001b[38;5;66;03m# Convert each value according to its column and store\u001b[39;00m\n\u001b[1;32m--> 999\u001b[0m items \u001b[38;5;241m=\u001b[39m [\u001b[43mconv\u001b[49m\u001b[43m(\u001b[49m\u001b[43mval\u001b[49m\u001b[43m)\u001b[49m \u001b[38;5;28;01mfor\u001b[39;00m (conv, val) \u001b[38;5;129;01min\u001b[39;00m \u001b[38;5;28mzip\u001b[39m(converters, vals)]\n\u001b[0;32m   1001\u001b[0m \u001b[38;5;66;03m# Then pack it according to the dtype's nesting\u001b[39;00m\n\u001b[0;32m   1002\u001b[0m items \u001b[38;5;241m=\u001b[39m pack_items(items, packing)\n",
      "File \u001b[1;32m~\\anaconda3\\lib\\site-packages\\numpy\\lib\\npyio.py:736\u001b[0m, in \u001b[0;36m_getconv.<locals>.floatconv\u001b[1;34m(x)\u001b[0m\n\u001b[0;32m    734\u001b[0m \u001b[38;5;28;01mif\u001b[39;00m \u001b[38;5;124m'\u001b[39m\u001b[38;5;124m0x\u001b[39m\u001b[38;5;124m'\u001b[39m \u001b[38;5;129;01min\u001b[39;00m x:\n\u001b[0;32m    735\u001b[0m     \u001b[38;5;28;01mreturn\u001b[39;00m \u001b[38;5;28mfloat\u001b[39m\u001b[38;5;241m.\u001b[39mfromhex(x)\n\u001b[1;32m--> 736\u001b[0m \u001b[38;5;28;01mreturn\u001b[39;00m \u001b[38;5;28;43mfloat\u001b[39;49m\u001b[43m(\u001b[49m\u001b[43mx\u001b[49m\u001b[43m)\u001b[49m\n",
      "\u001b[1;31mValueError\u001b[0m: could not convert string to float: 'number_courses,time_study,Marks'"
     ]
    }
   ],
   "source": [
    "data=np.loadtxt(\"Student_Marks.csv\")"
   ]
  },
  {
   "cell_type": "code",
   "execution_count": 35,
   "id": "87188a0a",
   "metadata": {},
   "outputs": [],
   "source": [
    "c=np.random.randint(1,2000,(100,3))"
   ]
  },
  {
   "cell_type": "code",
   "execution_count": 36,
   "id": "2b02e8be",
   "metadata": {},
   "outputs": [
    {
     "data": {
      "text/plain": [
       "array([[1188,  470,  950],\n",
       "       [ 451, 1372, 1374],\n",
       "       [  38,  930,  921],\n",
       "       [ 419,  204, 1835],\n",
       "       [1363, 1747,   36],\n",
       "       [ 637, 1496,  340],\n",
       "       [ 212, 1982, 1746],\n",
       "       [ 405,  651,  115],\n",
       "       [ 254,  994, 1134],\n",
       "       [1818,  358, 1461],\n",
       "       [ 660, 1659, 1238],\n",
       "       [ 778,  720,  539],\n",
       "       [1925,  893, 1524],\n",
       "       [1328, 1856,  229],\n",
       "       [1778, 1947, 1177],\n",
       "       [ 696,  977, 1007],\n",
       "       [ 770,  329, 1093],\n",
       "       [1478, 1971, 1093],\n",
       "       [1220,  778, 1773],\n",
       "       [ 542, 1248, 1280],\n",
       "       [1106, 1968,  965],\n",
       "       [ 889, 1253,  360],\n",
       "       [ 930, 1708, 1056],\n",
       "       [ 972, 1364, 1974],\n",
       "       [ 262, 1284, 1380],\n",
       "       [ 759,  335, 1094],\n",
       "       [ 659,  582,  919],\n",
       "       [1467, 1851, 1925],\n",
       "       [1446,  851, 1377],\n",
       "       [ 358, 1098, 1725],\n",
       "       [1035, 1521,  922],\n",
       "       [1974,  509,  619],\n",
       "       [ 565, 1444, 1232],\n",
       "       [1032, 1192, 1843],\n",
       "       [ 723, 1904, 1498],\n",
       "       [ 763, 1919, 1894],\n",
       "       [ 103,  382,  645],\n",
       "       [ 612,  750,  588],\n",
       "       [1937, 1935, 1691],\n",
       "       [1705,  858, 1960],\n",
       "       [1291, 1635, 1707],\n",
       "       [1191,  889,   69],\n",
       "       [1657,  910,  823],\n",
       "       [1370,  453,  387],\n",
       "       [ 529, 1857,   14],\n",
       "       [1630,  720,   21],\n",
       "       [ 271,  252,   57],\n",
       "       [1933, 1698, 1803],\n",
       "       [ 406, 1796,  181],\n",
       "       [1024, 1671, 1704],\n",
       "       [ 754, 1619,  562],\n",
       "       [ 289,  751,  622],\n",
       "       [ 833, 1254,  690],\n",
       "       [1706,  249, 1263],\n",
       "       [1798,  493,  780],\n",
       "       [1224, 1585,  219],\n",
       "       [ 232, 1685, 1449],\n",
       "       [1045,  280,  986],\n",
       "       [1813,  592,   68],\n",
       "       [1640,  310,  858],\n",
       "       [ 947, 1230,  181],\n",
       "       [1863, 1195,  250],\n",
       "       [ 401, 1431, 1564],\n",
       "       [ 219, 1226,  454],\n",
       "       [ 800, 1343, 1492],\n",
       "       [1993,  480, 1519],\n",
       "       [ 474, 1251, 1565],\n",
       "       [ 691,  944,  393],\n",
       "       [ 813,  252, 1270],\n",
       "       [1426, 1567,  509],\n",
       "       [ 191, 1825,  748],\n",
       "       [ 884,  508,  520],\n",
       "       [ 501,  284, 1769],\n",
       "       [ 344, 1928,  229],\n",
       "       [  70, 1525,  147],\n",
       "       [ 734, 1068,   66],\n",
       "       [1896, 1698, 1614],\n",
       "       [1804,  388, 1779],\n",
       "       [1032,  535, 1897],\n",
       "       [1756, 1437,  860],\n",
       "       [1840,  621, 1203],\n",
       "       [1955, 1699, 1737],\n",
       "       [1287,   88, 1394],\n",
       "       [1589,  191, 1453],\n",
       "       [ 309, 1823, 1505],\n",
       "       [1843, 1764, 1008],\n",
       "       [ 986,  609,  374],\n",
       "       [ 166,  127,  419],\n",
       "       [ 154, 1286, 1387],\n",
       "       [1878,  229,  458],\n",
       "       [1314, 1737,  192],\n",
       "       [1841,  271, 1696],\n",
       "       [ 588,  944, 1587],\n",
       "       [1150,  959,  444],\n",
       "       [1723, 1246,  448],\n",
       "       [1097,  170,  481],\n",
       "       [1014, 1702, 1854],\n",
       "       [1546,  228, 1149],\n",
       "       [1877, 1266,  563],\n",
       "       [1023,  711,   81]])"
      ]
     },
     "execution_count": 36,
     "metadata": {},
     "output_type": "execute_result"
    }
   ],
   "source": [
    "c"
   ]
  },
  {
   "cell_type": "code",
   "execution_count": 37,
   "id": "9d798611",
   "metadata": {},
   "outputs": [],
   "source": [
    "data=c\n"
   ]
  },
  {
   "cell_type": "code",
   "execution_count": 38,
   "id": "6f6cac95",
   "metadata": {},
   "outputs": [],
   "source": [
    "v=data[:80,::-1]"
   ]
  },
  {
   "cell_type": "code",
   "execution_count": 39,
   "id": "20066151",
   "metadata": {},
   "outputs": [
    {
     "data": {
      "text/plain": [
       "array([[ 950,  470, 1188],\n",
       "       [1374, 1372,  451],\n",
       "       [ 921,  930,   38],\n",
       "       [1835,  204,  419],\n",
       "       [  36, 1747, 1363],\n",
       "       [ 340, 1496,  637],\n",
       "       [1746, 1982,  212],\n",
       "       [ 115,  651,  405],\n",
       "       [1134,  994,  254],\n",
       "       [1461,  358, 1818],\n",
       "       [1238, 1659,  660],\n",
       "       [ 539,  720,  778],\n",
       "       [1524,  893, 1925],\n",
       "       [ 229, 1856, 1328],\n",
       "       [1177, 1947, 1778],\n",
       "       [1007,  977,  696],\n",
       "       [1093,  329,  770],\n",
       "       [1093, 1971, 1478],\n",
       "       [1773,  778, 1220],\n",
       "       [1280, 1248,  542],\n",
       "       [ 965, 1968, 1106],\n",
       "       [ 360, 1253,  889],\n",
       "       [1056, 1708,  930],\n",
       "       [1974, 1364,  972],\n",
       "       [1380, 1284,  262],\n",
       "       [1094,  335,  759],\n",
       "       [ 919,  582,  659],\n",
       "       [1925, 1851, 1467],\n",
       "       [1377,  851, 1446],\n",
       "       [1725, 1098,  358],\n",
       "       [ 922, 1521, 1035],\n",
       "       [ 619,  509, 1974],\n",
       "       [1232, 1444,  565],\n",
       "       [1843, 1192, 1032],\n",
       "       [1498, 1904,  723],\n",
       "       [1894, 1919,  763],\n",
       "       [ 645,  382,  103],\n",
       "       [ 588,  750,  612],\n",
       "       [1691, 1935, 1937],\n",
       "       [1960,  858, 1705],\n",
       "       [1707, 1635, 1291],\n",
       "       [  69,  889, 1191],\n",
       "       [ 823,  910, 1657],\n",
       "       [ 387,  453, 1370],\n",
       "       [  14, 1857,  529],\n",
       "       [  21,  720, 1630],\n",
       "       [  57,  252,  271],\n",
       "       [1803, 1698, 1933],\n",
       "       [ 181, 1796,  406],\n",
       "       [1704, 1671, 1024],\n",
       "       [ 562, 1619,  754],\n",
       "       [ 622,  751,  289],\n",
       "       [ 690, 1254,  833],\n",
       "       [1263,  249, 1706],\n",
       "       [ 780,  493, 1798],\n",
       "       [ 219, 1585, 1224],\n",
       "       [1449, 1685,  232],\n",
       "       [ 986,  280, 1045],\n",
       "       [  68,  592, 1813],\n",
       "       [ 858,  310, 1640],\n",
       "       [ 181, 1230,  947],\n",
       "       [ 250, 1195, 1863],\n",
       "       [1564, 1431,  401],\n",
       "       [ 454, 1226,  219],\n",
       "       [1492, 1343,  800],\n",
       "       [1519,  480, 1993],\n",
       "       [1565, 1251,  474],\n",
       "       [ 393,  944,  691],\n",
       "       [1270,  252,  813],\n",
       "       [ 509, 1567, 1426],\n",
       "       [ 748, 1825,  191],\n",
       "       [ 520,  508,  884],\n",
       "       [1769,  284,  501],\n",
       "       [ 229, 1928,  344],\n",
       "       [ 147, 1525,   70],\n",
       "       [  66, 1068,  734],\n",
       "       [1614, 1698, 1896],\n",
       "       [1779,  388, 1804],\n",
       "       [1897,  535, 1032],\n",
       "       [ 860, 1437, 1756]])"
      ]
     },
     "execution_count": 39,
     "metadata": {},
     "output_type": "execute_result"
    }
   ],
   "source": [
    "v"
   ]
  },
  {
   "cell_type": "code",
   "execution_count": 50,
   "id": "cf70c001",
   "metadata": {},
   "outputs": [
    {
     "name": "stdout",
     "output_type": "stream",
     "text": [
      "57.5 µs ± 915 ns per loop (mean ± std. dev. of 7 runs, 10,000 loops each)\n"
     ]
    }
   ],
   "source": [
    "q=range(1000)\n",
    "q\n",
    "\n",
    "%timeit [i//2 for i in q]"
   ]
  },
  {
   "cell_type": "code",
   "execution_count": 51,
   "id": "7bccba49",
   "metadata": {},
   "outputs": [
    {
     "name": "stdout",
     "output_type": "stream",
     "text": [
      "1.98 µs ± 69.6 ns per loop (mean ± std. dev. of 7 runs, 100,000 loops each)\n"
     ]
    }
   ],
   "source": [
    "p=np.arange(1000)\n",
    "%timeit p//2"
   ]
  },
  {
   "cell_type": "code",
   "execution_count": null,
   "id": "3b9cd118",
   "metadata": {},
   "outputs": [],
   "source": []
  }
 ],
 "metadata": {
  "kernelspec": {
   "display_name": "Python 3 (ipykernel)",
   "language": "python",
   "name": "python3"
  },
  "language_info": {
   "codemirror_mode": {
    "name": "ipython",
    "version": 3
   },
   "file_extension": ".py",
   "mimetype": "text/x-python",
   "name": "python",
   "nbconvert_exporter": "python",
   "pygments_lexer": "ipython3",
   "version": "3.9.12"
  }
 },
 "nbformat": 4,
 "nbformat_minor": 5
}
