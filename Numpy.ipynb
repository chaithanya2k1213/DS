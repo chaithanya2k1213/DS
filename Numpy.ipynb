{
 "cells": [
  {
   "cell_type": "code",
   "execution_count": 1,
   "id": "77c17eeb",
   "metadata": {},
   "outputs": [],
   "source": [
    "import numpy as np"
   ]
  },
  {
   "cell_type": "markdown",
   "id": "39bcf188",
   "metadata": {},
   "source": [
    "#### 1-D Array"
   ]
  },
  {
   "cell_type": "code",
   "execution_count": 13,
   "id": "9af7df52",
   "metadata": {},
   "outputs": [
    {
     "data": {
      "text/plain": [
       "list"
      ]
     },
     "execution_count": 13,
     "metadata": {},
     "output_type": "execute_result"
    }
   ],
   "source": [
    "lis=[1,2,3,4]\n",
    "type(lis)"
   ]
  },
  {
   "cell_type": "code",
   "execution_count": 14,
   "id": "7e6df792",
   "metadata": {},
   "outputs": [
    {
     "data": {
      "text/plain": [
       "numpy.ndarray"
      ]
     },
     "execution_count": 14,
     "metadata": {},
     "output_type": "execute_result"
    }
   ],
   "source": [
    "nump=np.array(lis)\n",
    "type(nump)"
   ]
  },
  {
   "cell_type": "markdown",
   "id": "4db7c831",
   "metadata": {},
   "source": [
    "#### 2-D Array"
   ]
  },
  {
   "cell_type": "code",
   "execution_count": 24,
   "id": "5947fef8",
   "metadata": {},
   "outputs": [
    {
     "data": {
      "text/plain": [
       "array([[ 1,  2,  3],\n",
       "       [ 2,  3,  4],\n",
       "       [ 3,  4, 51]])"
      ]
     },
     "execution_count": 24,
     "metadata": {},
     "output_type": "execute_result"
    }
   ],
   "source": [
    "two_D=[[1,2,3],[2,3,4],[3,4,51]]\n",
    "a=np.array(two_D)\n",
    "a"
   ]
  },
  {
   "cell_type": "code",
   "execution_count": 25,
   "id": "c930175b",
   "metadata": {},
   "outputs": [
    {
     "data": {
      "text/plain": [
       "2"
      ]
     },
     "execution_count": 25,
     "metadata": {},
     "output_type": "execute_result"
    }
   ],
   "source": [
    "a.ndim"
   ]
  },
  {
   "cell_type": "code",
   "execution_count": 26,
   "id": "06bf24c2",
   "metadata": {},
   "outputs": [
    {
     "data": {
      "text/plain": [
       "(3, 3)"
      ]
     },
     "execution_count": 26,
     "metadata": {},
     "output_type": "execute_result"
    }
   ],
   "source": [
    "a.shape"
   ]
  },
  {
   "cell_type": "markdown",
   "id": "f2d3b735",
   "metadata": {},
   "source": [
    "#### 3-D Array"
   ]
  },
  {
   "cell_type": "code",
   "execution_count": 27,
   "id": "4c87f8dc",
   "metadata": {},
   "outputs": [
    {
     "data": {
      "text/plain": [
       "array([[[1, 2, 3],\n",
       "        [2, 3, 4]],\n",
       "\n",
       "       [[4, 5, 5],\n",
       "        [7, 8, 9]]])"
      ]
     },
     "execution_count": 27,
     "metadata": {},
     "output_type": "execute_result"
    }
   ],
   "source": [
    "three_D=[[[1,2,3],[2,3,4]],[[4,5,5],[7,8,9]]]\n",
    "b=np.array(three_D)\n",
    "b"
   ]
  },
  {
   "cell_type": "code",
   "execution_count": 28,
   "id": "36600a30",
   "metadata": {},
   "outputs": [
    {
     "data": {
      "text/plain": [
       "3"
      ]
     },
     "execution_count": 28,
     "metadata": {},
     "output_type": "execute_result"
    }
   ],
   "source": [
    "b.ndim"
   ]
  },
  {
   "cell_type": "code",
   "execution_count": 29,
   "id": "6466af88",
   "metadata": {},
   "outputs": [
    {
     "data": {
      "text/plain": [
       "(2, 2, 3)"
      ]
     },
     "execution_count": 29,
     "metadata": {},
     "output_type": "execute_result"
    }
   ],
   "source": [
    "b.shape"
   ]
  },
  {
   "cell_type": "markdown",
   "id": "17d1f80e",
   "metadata": {},
   "source": [
    "### ------------------------------------------------------------------------------------------------------------------------------"
   ]
  },
  {
   "cell_type": "code",
   "execution_count": 31,
   "id": "fd424a62",
   "metadata": {},
   "outputs": [
    {
     "data": {
      "text/plain": [
       "array([[0., 0., 0., 0.],\n",
       "       [0., 0., 0., 0.],\n",
       "       [0., 0., 0., 0.]])"
      ]
     },
     "execution_count": 31,
     "metadata": {},
     "output_type": "execute_result"
    }
   ],
   "source": [
    "z=np.zeros((3,4))\n",
    "z"
   ]
  },
  {
   "cell_type": "code",
   "execution_count": 41,
   "id": "ec496c32",
   "metadata": {},
   "outputs": [
    {
     "data": {
      "text/plain": [
       "array([ 0., 10., 20., 30., 40.])"
      ]
     },
     "execution_count": 41,
     "metadata": {},
     "output_type": "execute_result"
    }
   ],
   "source": [
    "l=np.linspace(0,40,5)\n",
    "l"
   ]
  },
  {
   "cell_type": "code",
   "execution_count": 50,
   "id": "62879e18",
   "metadata": {},
   "outputs": [
    {
     "data": {
      "text/plain": [
       "array([[1., 0., 0., 0.],\n",
       "       [0., 1., 0., 0.],\n",
       "       [0., 0., 1., 0.],\n",
       "       [0., 0., 0., 1.]])"
      ]
     },
     "execution_count": 50,
     "metadata": {},
     "output_type": "execute_result"
    }
   ],
   "source": [
    "e=np.eye(4)\n",
    "e"
   ]
  },
  {
   "cell_type": "markdown",
   "id": "8c9a3fbe",
   "metadata": {},
   "source": [
    "#### Random numbers"
   ]
  },
  {
   "cell_type": "code",
   "execution_count": 55,
   "id": "e263e94d",
   "metadata": {},
   "outputs": [
    {
     "data": {
      "text/plain": [
       "array([[0.51551475, 0.50423308, 0.01751805],\n",
       "       [0.6454586 , 0.12171055, 0.37349892],\n",
       "       [0.46934005, 0.63077327, 0.84310825],\n",
       "       [0.86580742, 0.11470197, 0.25532001]])"
      ]
     },
     "execution_count": 55,
     "metadata": {},
     "output_type": "execute_result"
    }
   ],
   "source": [
    "np.random.rand(4,3)"
   ]
  },
  {
   "cell_type": "code",
   "execution_count": 56,
   "id": "232eda57",
   "metadata": {},
   "outputs": [
    {
     "data": {
      "text/plain": [
       "array([[-0.93621269,  1.72759894,  1.13351015],\n",
       "       [ 0.2608888 ,  0.9617541 ,  0.88614613],\n",
       "       [-0.43246019,  0.84279667,  0.71778817],\n",
       "       [-0.59103904, -1.03654081, -0.23290278]])"
      ]
     },
     "execution_count": 56,
     "metadata": {},
     "output_type": "execute_result"
    }
   ],
   "source": [
    "np.random.randn(4,3)"
   ]
  },
  {
   "cell_type": "code",
   "execution_count": 60,
   "id": "91b48a2d",
   "metadata": {},
   "outputs": [
    {
     "data": {
      "text/plain": [
       "array([[ 6, 13, 10],\n",
       "       [ 2, 14, 12],\n",
       "       [ 2,  6,  7],\n",
       "       [ 5,  3,  6]])"
      ]
     },
     "execution_count": 60,
     "metadata": {},
     "output_type": "execute_result"
    }
   ],
   "source": [
    "r=np.random.randint(1,16,(4,3))\n",
    "r"
   ]
  },
  {
   "cell_type": "code",
   "execution_count": 62,
   "id": "dbbac465",
   "metadata": {},
   "outputs": [
    {
     "data": {
      "text/plain": [
       "array([[ 6, 13],\n",
       "       [ 2, 14]])"
      ]
     },
     "execution_count": 62,
     "metadata": {},
     "output_type": "execute_result"
    }
   ],
   "source": [
    "r[0:2,0:2]"
   ]
  },
  {
   "cell_type": "code",
   "execution_count": 63,
   "id": "6e53bf9f",
   "metadata": {},
   "outputs": [
    {
     "data": {
      "text/plain": [
       "array([[ 6, 13, 10,  2],\n",
       "       [14, 12,  2,  6],\n",
       "       [ 7,  5,  3,  6]])"
      ]
     },
     "execution_count": 63,
     "metadata": {},
     "output_type": "execute_result"
    }
   ],
   "source": [
    "r.reshape(3,4)"
   ]
  },
  {
   "cell_type": "code",
   "execution_count": 66,
   "id": "3509bfe7",
   "metadata": {},
   "outputs": [
    {
     "data": {
      "text/plain": [
       "array([5, 3, 6])"
      ]
     },
     "execution_count": 66,
     "metadata": {},
     "output_type": "execute_result"
    }
   ],
   "source": [
    "r[3]"
   ]
  },
  {
   "cell_type": "code",
   "execution_count": 67,
   "id": "04440d60",
   "metadata": {},
   "outputs": [
    {
     "data": {
      "text/plain": [
       "14"
      ]
     },
     "execution_count": 67,
     "metadata": {},
     "output_type": "execute_result"
    }
   ],
   "source": [
    "np.sum(r[3])"
   ]
  },
  {
   "cell_type": "code",
   "execution_count": 73,
   "id": "18c5ff3b",
   "metadata": {},
   "outputs": [
    {
     "data": {
      "text/plain": [
       "2"
      ]
     },
     "execution_count": 73,
     "metadata": {},
     "output_type": "execute_result"
    }
   ],
   "source": [
    "r[3].argmax() # Shows the maximum value's index."
   ]
  },
  {
   "cell_type": "code",
   "execution_count": 74,
   "id": "9083d91d",
   "metadata": {},
   "outputs": [
    {
     "data": {
      "text/plain": [
       "1"
      ]
     },
     "execution_count": 74,
     "metadata": {},
     "output_type": "execute_result"
    }
   ],
   "source": [
    "r[3].argmin() # Shows the minimum value's index."
   ]
  },
  {
   "cell_type": "code",
   "execution_count": 79,
   "id": "09762be2",
   "metadata": {
    "scrolled": true
   },
   "outputs": [
    {
     "data": {
      "text/plain": [
       "array([[804, 985, 151],\n",
       "       [376, 763, 916],\n",
       "       [379, 206, 921],\n",
       "       [214, 440, 492],\n",
       "       [428, 361, 923],\n",
       "       [241, 484, 185],\n",
       "       [993, 622, 723],\n",
       "       [368,  72, 134],\n",
       "       [ 50, 712, 198],\n",
       "       [367, 560, 827],\n",
       "       [419,  73, 339],\n",
       "       [566, 340, 438],\n",
       "       [178, 718, 235],\n",
       "       [ 21, 603, 863],\n",
       "       [764, 386, 912],\n",
       "       [810,  51, 995],\n",
       "       [967,  90, 492],\n",
       "       [ 20, 902, 280],\n",
       "       [377, 253, 523],\n",
       "       [127, 702, 755],\n",
       "       [227, 933, 562],\n",
       "       [943, 601, 675],\n",
       "       [552, 351, 976],\n",
       "       [655, 378, 468],\n",
       "       [461, 259, 483],\n",
       "       [ 83, 750, 968],\n",
       "       [996, 651, 748],\n",
       "       [875,  19, 429],\n",
       "       [762, 945, 578],\n",
       "       [810, 406, 932],\n",
       "       [387, 448, 983],\n",
       "       [264,  40, 423],\n",
       "       [703, 131, 986],\n",
       "       [394, 968, 230],\n",
       "       [379, 316, 211],\n",
       "       [325, 587, 770],\n",
       "       [799, 324, 502],\n",
       "       [306, 728, 845],\n",
       "       [404, 508, 505],\n",
       "       [439, 297, 458],\n",
       "       [347, 795, 711],\n",
       "       [201, 276, 135],\n",
       "       [973, 599, 820],\n",
       "       [262, 956, 269],\n",
       "       [ 94, 271, 707],\n",
       "       [ 87, 888, 641],\n",
       "       [954, 305, 936],\n",
       "       [770, 497, 707],\n",
       "       [888, 265,  43],\n",
       "       [287, 508, 193],\n",
       "       [210, 331, 362],\n",
       "       [753, 964, 171],\n",
       "       [531, 600, 591],\n",
       "       [796, 808, 994],\n",
       "       [219, 880, 225],\n",
       "       [859, 809, 437],\n",
       "       [972, 558, 589],\n",
       "       [765, 148, 870],\n",
       "       [885, 596, 967],\n",
       "       [221, 428, 373],\n",
       "       [593, 746, 333],\n",
       "       [271, 769, 563],\n",
       "       [478, 569, 216],\n",
       "       [154, 522, 119],\n",
       "       [878, 484, 915],\n",
       "       [294, 627, 635],\n",
       "       [892,   7, 424],\n",
       "       [351,  38, 150],\n",
       "       [974, 556, 276],\n",
       "       [242, 598, 437],\n",
       "       [ 71, 150,  74],\n",
       "       [284, 352, 194],\n",
       "       [916, 403, 853],\n",
       "       [149, 893, 299],\n",
       "       [529, 184, 686],\n",
       "       [226, 874,  48],\n",
       "       [606, 614, 423],\n",
       "       [197, 652, 848],\n",
       "       [286,  52, 131],\n",
       "       [160, 538, 665],\n",
       "       [553, 189, 747],\n",
       "       [876, 252, 534],\n",
       "       [166, 514, 458],\n",
       "       [313, 147, 873],\n",
       "       [ 13, 461, 664],\n",
       "       [395, 706, 946],\n",
       "       [884, 520, 957],\n",
       "       [941, 939, 525],\n",
       "       [788, 620, 304],\n",
       "       [ 76, 891, 403],\n",
       "       [318, 283, 956],\n",
       "       [496, 533, 934],\n",
       "       [ 19,  34,  68],\n",
       "       [425, 298, 502],\n",
       "       [959, 893, 581],\n",
       "       [808, 374, 729],\n",
       "       [352, 107, 578],\n",
       "       [382, 875, 638],\n",
       "       [401, 312,  37],\n",
       "       [572, 519, 581]])"
      ]
     },
     "execution_count": 79,
     "metadata": {},
     "output_type": "execute_result"
    }
   ],
   "source": [
    "d=np.random.randint(1,1000,(100,3))\n",
    "d"
   ]
  },
  {
   "cell_type": "code",
   "execution_count": 82,
   "id": "5101c7b5",
   "metadata": {},
   "outputs": [
    {
     "name": "stdout",
     "output_type": "stream",
     "text": [
      "161 µs ± 8.21 µs per loop (mean ± std. dev. of 7 runs, 10,000 loops each)\n"
     ]
    }
   ],
   "source": [
    "q=range(1000)\n",
    "q\n",
    "\n",
    "%timeit [i//2 for i in q]"
   ]
  },
  {
   "cell_type": "code",
   "execution_count": 83,
   "id": "b02f51e4",
   "metadata": {},
   "outputs": [
    {
     "name": "stdout",
     "output_type": "stream",
     "text": [
      "5.4 µs ± 126 ns per loop (mean ± std. dev. of 7 runs, 100,000 loops each)\n"
     ]
    }
   ],
   "source": [
    "p=np.arange(1000)\n",
    "%timeit p//2"
   ]
  },
  {
   "cell_type": "code",
   "execution_count": null,
   "id": "95f50667",
   "metadata": {},
   "outputs": [],
   "source": []
  }
 ],
 "metadata": {
  "kernelspec": {
   "display_name": "Python 3 (ipykernel)",
   "language": "python",
   "name": "python3"
  },
  "language_info": {
   "codemirror_mode": {
    "name": "ipython",
    "version": 3
   },
   "file_extension": ".py",
   "mimetype": "text/x-python",
   "name": "python",
   "nbconvert_exporter": "python",
   "pygments_lexer": "ipython3",
   "version": "3.9.12"
  }
 },
 "nbformat": 4,
 "nbformat_minor": 5
}
